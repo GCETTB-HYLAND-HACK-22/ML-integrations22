{
 "nbformat": 4,
 "nbformat_minor": 0,
 "metadata": {
  "colab": {
   "name": "Copy of Project Covid-19 possiblity Detector.ipynb",
   "provenance": []
  },
  "kernelspec": {
   "name": "pycharm-57545205",
   "language": "python",
   "display_name": "PyCharm (covid-detection-from-xray)"
  }
 },
 "cells": [
  {
   "cell_type": "code",
   "metadata": {
    "id": "84exb5-0oD6C"
   },
   "source": [
    "#importing necessary libraries\n",
    " \n",
    "from sklearn.model_selection import train_test_split\n",
    "from sklearn.linear_model import LogisticRegression\n",
    "from sklearn import tree\n",
    "from sklearn.metrics import confusion_matrix \n",
    "from sklearn.metrics import accuracy_score\n",
    "from sklearn.metrics import precision_score\n",
    "from sklearn.metrics import recall_score\n",
    "from sklearn import datasets\n",
    "from sklearn import preprocessing\n",
    "from sklearn.metrics import roc_auc_score\n",
    "from sklearn.metrics import roc_curve\n",
    "from IPython.display import Image  \n",
    "import pydotplus\n",
    "import matplotlib.pyplot as plt \n",
    "import io\n",
    "import seaborn as sns\n",
    "import numpy as np\n",
    "import pickle"
   ],
   "execution_count": 12,
   "outputs": []
  },
  {
   "cell_type": "code",
   "metadata": {
    "id": "35n_FWzNobpb",
    "outputId": "c7ca1470-7f57-41c1-f418-3b220e7be82a",
    "colab": {
     "base_uri": "https://localhost:8080/",
     "height": 153
    }
   },
   "source": [
    "#importing file into a pandas dataframe\n",
    "\n",
    "import pandas as pd\n",
    "df = pd.read_csv(\"CovidDataset.csv\")\n",
    "print(df.head())"
   ],
   "execution_count": 8,
   "outputs": [
    {
     "name": "stdout",
     "output_type": "stream",
     "text": [
      "  Breathing Problem Fever Dry Cough Sore throat Running Nose Asthma  \\\n",
      "0               Yes   Yes       Yes         Yes          Yes     No   \n",
      "1               Yes   Yes       Yes         Yes           No    Yes   \n",
      "2               Yes   Yes       Yes         Yes          Yes    Yes   \n",
      "3               Yes   Yes       Yes          No           No    Yes   \n",
      "4               Yes   Yes       Yes         Yes          Yes     No   \n",
      "\n",
      "  Chronic Lung Disease Headache Heart Disease Diabetes  ... Fatigue   \\\n",
      "0                   No       No            No      Yes  ...      Yes   \n",
      "1                  Yes      Yes            No       No  ...      Yes   \n",
      "2                  Yes      Yes            No      Yes  ...      Yes   \n",
      "3                   No       No           Yes      Yes  ...       No   \n",
      "4                  Yes      Yes           Yes      Yes  ...       No   \n",
      "\n",
      "  Gastrointestinal  Abroad travel Contact with COVID Patient  \\\n",
      "0               Yes            No                        Yes   \n",
      "1                No            No                         No   \n",
      "2               Yes           Yes                         No   \n",
      "3                No           Yes                         No   \n",
      "4               Yes            No                        Yes   \n",
      "\n",
      "  Attended Large Gathering Visited Public Exposed Places  \\\n",
      "0                       No                           Yes   \n",
      "1                      Yes                           Yes   \n",
      "2                       No                            No   \n",
      "3                      Yes                           Yes   \n",
      "4                       No                           Yes   \n",
      "\n",
      "  Family working in Public Exposed Places Wearing Masks  \\\n",
      "0                                     Yes            No   \n",
      "1                                      No            No   \n",
      "2                                      No            No   \n",
      "3                                      No            No   \n",
      "4                                      No            No   \n",
      "\n",
      "  Sanitization from Market COVID-19  \n",
      "0                       No      Yes  \n",
      "1                       No      Yes  \n",
      "2                       No      Yes  \n",
      "3                       No      Yes  \n",
      "4                       No      Yes  \n",
      "\n",
      "[5 rows x 21 columns]\n"
     ]
    }
   ]
  },
  {
   "cell_type": "code",
   "metadata": {
    "id": "LCdaZte5oiMG",
    "outputId": "9c050f2a-351e-4ac1-e727-0d3c77aeab90",
    "colab": {
     "base_uri": "https://localhost:8080/",
     "height": 153
    }
   },
   "source": [
    "df=df.replace(to_replace='Yes', value=1)\n",
    "df=df.replace(to_replace='No', value=0)\n",
    "print(df.head())"
   ],
   "execution_count": 9,
   "outputs": [
    {
     "name": "stdout",
     "output_type": "stream",
     "text": [
      "   Breathing Problem  Fever  Dry Cough  Sore throat  Running Nose  Asthma  \\\n",
      "0                  1      1          1            1             1       0   \n",
      "1                  1      1          1            1             0       1   \n",
      "2                  1      1          1            1             1       1   \n",
      "3                  1      1          1            0             0       1   \n",
      "4                  1      1          1            1             1       0   \n",
      "\n",
      "   Chronic Lung Disease  Headache  Heart Disease  Diabetes  ...  Fatigue   \\\n",
      "0                     0         0              0         1  ...         1   \n",
      "1                     1         1              0         0  ...         1   \n",
      "2                     1         1              0         1  ...         1   \n",
      "3                     0         0              1         1  ...         0   \n",
      "4                     1         1              1         1  ...         0   \n",
      "\n",
      "   Gastrointestinal   Abroad travel  Contact with COVID Patient  \\\n",
      "0                  1              0                           1   \n",
      "1                  0              0                           0   \n",
      "2                  1              1                           0   \n",
      "3                  0              1                           0   \n",
      "4                  1              0                           1   \n",
      "\n",
      "   Attended Large Gathering  Visited Public Exposed Places  \\\n",
      "0                         0                              1   \n",
      "1                         1                              1   \n",
      "2                         0                              0   \n",
      "3                         1                              1   \n",
      "4                         0                              1   \n",
      "\n",
      "   Family working in Public Exposed Places  Wearing Masks  \\\n",
      "0                                        1              0   \n",
      "1                                        0              0   \n",
      "2                                        0              0   \n",
      "3                                        0              0   \n",
      "4                                        0              0   \n",
      "\n",
      "   Sanitization from Market  COVID-19  \n",
      "0                         0         1  \n",
      "1                         0         1  \n",
      "2                         0         1  \n",
      "3                         0         1  \n",
      "4                         0         1  \n",
      "\n",
      "[5 rows x 21 columns]\n"
     ]
    }
   ]
  },
  {
   "cell_type": "code",
   "metadata": {
    "id": "e_47FP8b590v",
    "outputId": "52db135b-53e6-4d9c-f6e1-5d0c80fde12e",
    "colab": {
     "base_uri": "https://localhost:8080/",
     "height": 204
    }
   },
   "source": [
    "y=df['COVID-19']\n",
    "x=df.drop(columns=['Running Nose', 'Asthma', 'Chronic Lung Disease', 'Headache',\n",
    "       'Heart Disease', 'Diabetes', 'Hyper Tension', 'Fatigue ',\n",
    "       'Gastrointestinal ', 'Visited Public Exposed Places',\n",
    "       'Family working in Public Exposed Places', 'Wearing Masks',\n",
    "       'Sanitization from Market','COVID-19'])\n",
    "xtrain, xtest, ytrain, ytest = train_test_split( x, y, test_size = 0.30,random_state = 42,shuffle = True)\n",
    "clf = LogisticRegression(random_state = 42)\n",
    "clf = clf.fit(xtrain, ytrain) \n",
    "ypred = clf.predict(xtest)\n",
    " \n",
    "cm = confusion_matrix(ytest, ypred) \n",
    "print (\"Confusion Matrix : \\n\", cm)\n",
    " \n",
    "print (\"\\nAccuracy Score on train data: : \", accuracy_score(ytrain, clf.predict(xtrain)))\n",
    "print (\"\\nAccuracy Score on test data : \", accuracy_score(ytest, ypred))\n",
    "print(\"\\n\\nPrecision Score on test data :\",precision_score(ytest, ypred))\n",
    "print(\"Recall Score on test data :\",recall_score(ytest, ypred))"
   ],
   "execution_count": 10,
   "outputs": [
    {
     "name": "stdout",
     "output_type": "stream",
     "text": [
      "Confusion Matrix : \n",
      " [[ 272   44]\n",
      " [  14 1301]]\n",
      "\n",
      "Accuracy Score on train data: :  0.963712858269787\n",
      "\n",
      "Accuracy Score on test data :  0.964438994481913\n",
      "\n",
      "\n",
      "Precision Score on test data : 0.9672862453531599\n",
      "Recall Score on test data : 0.9893536121673003\n"
     ]
    }
   ]
  },
  {
   "cell_type": "code",
   "metadata": {
    "id": "UFaQUp_uqte2",
    "cellView": "form",
    "outputId": "bc39f753-cb06-421b-e036-6c8f7e736af5",
    "colab": {
     "base_uri": "https://localhost:8080/",
     "height": 229
    }
   },
   "source": [
    "#@title COVID - 19 Possibility Detector { run: \"auto\", vertical-output: true }\n",
    "BreathingProblem = 'Yes' #@param [\"Yes\", \"No\"]\n",
    "Fever = 'No' #@param [\"Yes\", \"No\"]\n",
    "DryCough = 'No' #@param [\"Yes\", \"No\"]\n",
    "SoreThroat = 'Yes' #@param [\"Yes\", \"No\"]\n",
    "AboradTravel = 'Yes' #@param [\"Yes\", \"No\"]\n",
    "ContactwithCovid19Patient = 'Yes' #@param [\"Yes\", \"No\"]\n",
    "AttendedLargeGathering =  'No' #@param [\"Yes\", \"No\"]\n",
    " \n",
    "if(BreathingProblem=='Yes'):\n",
    "  a = 1\n",
    "else:\n",
    "  a = 0\n",
    "if(Fever=='Yes'):\n",
    "  b = 1\n",
    "else:\n",
    "  b = 0\n",
    "if(DryCough=='Yes'):\n",
    "  c = 1\n",
    "else:\n",
    "  c = 0\n",
    "if(SoreThroat=='Yes'):\n",
    "  d = 1\n",
    "else:\n",
    "  d = 0\n",
    "if(AboradTravel=='Yes'):\n",
    "  e = 1\n",
    "else:\n",
    "  e = 0\n",
    "if(ContactwithCovid19Patient=='Yes'):\n",
    "  f = 1\n",
    "else:\n",
    "  f = 0\n",
    "if(AttendedLargeGathering=='Yes'):\n",
    "  g = 1\n",
    "else:\n",
    "  g = 0\n",
    " \n",
    "data = {\n",
    "    'Breathing Problem' : [a],\n",
    "    'Fever' : [b],\n",
    "    'Dry Cough' : [c], \n",
    "    'Sore throat' : [d],\n",
    "    'Abroad travel' : [e], \n",
    "    'Contact with COVID Patient' : [f],\n",
    "    'Attended Large Gathering' : [g]\n",
    "}\n",
    " \n",
    "testdata = pd.DataFrame.from_dict(data)\n",
    "print(\"\\n\\n...................................\\n\\nYour COVID-19 prabability is\",round(clf.predict_proba(testdata)[0][1]*100),\" %\\n\\n...................................\\n\\n\")"
   ],
   "execution_count": 11,
   "outputs": [
    {
     "name": "stdout",
     "output_type": "stream",
     "text": [
      "\n",
      "\n",
      "...................................\n",
      "\n",
      "Your COVID-19 prabability is 99  %\n",
      "\n",
      "...................................\n",
      "\n",
      "\n"
     ]
    }
   ]
  },
  {
   "cell_type": "code",
   "execution_count": 15,
   "outputs": [],
   "source": [
    "pickle.dump(clf, open('checker.pkl','wb'))"
   ],
   "metadata": {
    "collapsed": false,
    "pycharm": {
     "name": "#%%\n"
    }
   }
  },
  {
   "cell_type": "code",
   "execution_count": 16,
   "outputs": [],
   "source": [
    "saved_model=open(\"checker.pkl\",\"rb\")\n",
    "current_model=pickle.load(saved_model)\n"
   ],
   "metadata": {
    "collapsed": false,
    "pycharm": {
     "name": "#%%\n"
    }
   }
  },
  {
   "cell_type": "code",
   "execution_count": 18,
   "outputs": [
    {
     "data": {
      "text/plain": "array([1], dtype=int64)"
     },
     "execution_count": 18,
     "metadata": {},
     "output_type": "execute_result"
    }
   ],
   "source": [
    "current_model.predict(testdata)\n"
   ],
   "metadata": {
    "collapsed": false,
    "pycharm": {
     "name": "#%%\n"
    }
   }
  },
  {
   "cell_type": "code",
   "execution_count": 21,
   "outputs": [
    {
     "data": {
      "text/plain": "98.55793280129367"
     },
     "execution_count": 21,
     "metadata": {},
     "output_type": "execute_result"
    }
   ],
   "source": [
    "current_model.predict_proba(testdata)[0][1] *100\n"
   ],
   "metadata": {
    "collapsed": false,
    "pycharm": {
     "name": "#%%\n"
    }
   }
  }
 ]
}